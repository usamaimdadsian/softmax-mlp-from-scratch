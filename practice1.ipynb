{
 "cells": [
  {
   "cell_type": "code",
   "execution_count": 1,
   "metadata": {},
   "outputs": [],
   "source": [
    "import numpy as np\n",
    "from _base_network import _baseNetwork\n",
    "import pandas as pd\n",
    "import matplotlib.pyplot as plt"
   ]
  },
  {
   "cell_type": "code",
   "execution_count": 2,
   "metadata": {},
   "outputs": [
    {
     "data": {
      "text/plain": [
       "3"
      ]
     },
     "execution_count": 2,
     "metadata": {},
     "output_type": "execute_result"
    }
   ],
   "source": [
    "a = np.array([0,1,0,1,1])\n",
    "b = np.array([1,1,0,1,0])\n",
    "\n",
    "np.sum((a == b))"
   ]
  },
  {
   "cell_type": "code",
   "execution_count": 3,
   "metadata": {},
   "outputs": [],
   "source": [
    "data = pd.read_csv('MNIST_CSV/mnist_test.csv',header=None,delimiter=',')\n",
    "X = data.loc[:,1:].to_numpy()\n",
    "y = data[0].to_numpy()"
   ]
  },
  {
   "cell_type": "code",
   "execution_count": 4,
   "metadata": {},
   "outputs": [
    {
     "name": "stdout",
     "output_type": "stream",
     "text": [
      "7\n"
     ]
    },
    {
     "data": {
      "text/plain": [
       "<matplotlib.image.AxesImage at 0x7f1e0a9e1150>"
      ]
     },
     "execution_count": 4,
     "metadata": {},
     "output_type": "execute_result"
    },
    {
     "data": {
      "image/png": "[encoded data removed]",
      "text/plain": [
       "<Figure size 432x288 with 1 Axes>"
      ]
     },
     "metadata": {
      "needs_background": "light"
     },
     "output_type": "display_data"
    }
   ],
   "source": [
    "print(y[0])\n",
    "plt.imshow(np.reshape(X[0],(28,28)),'gray')"
   ]
  },
  {
   "cell_type": "code",
   "execution_count": 5,
   "metadata": {},
   "outputs": [
    {
     "name": "stdout",
     "output_type": "stream",
     "text": [
      "[[ 1  2  3  4  5  6  7  8  9 10]\n",
      " [11 12 13 14 15 16 17 18 19 20]\n",
      " [21 22 23 24 25 26 27 28 29 30]\n",
      " [31 32 33 34 35 36 37 38 39 40]\n",
      " [41 42 43 44 45 46 47 48 49 50]]\n"
     ]
    }
   ],
   "source": [
    "yt = [0,2,3,4,5]\n",
    "pred = np.arange(1,51)\n",
    "pred = np.reshape(pred,(5,10))\n",
    "print(pred)"
   ]
  },
  {
   "cell_type": "code",
   "execution_count": 6,
   "metadata": {},
   "outputs": [
    {
     "data": {
      "text/plain": [
       "array([ 1, 13, 24, 35, 46])"
      ]
     },
     "execution_count": 6,
     "metadata": {},
     "output_type": "execute_result"
    }
   ],
   "source": [
    "pred[range(len(yt)),yt]"
   ]
  },
  {
   "cell_type": "code",
   "execution_count": 7,
   "metadata": {},
   "outputs": [
    {
     "data": {
      "text/plain": [
       "array([-9, -8, -7, -6, -5, -4, -3, -2, -1,  0])"
      ]
     },
     "execution_count": 7,
     "metadata": {},
     "output_type": "execute_result"
    }
   ],
   "source": [
    "a = np.arange(10)\n",
    "a-np.max(a)"
   ]
  },
  {
   "cell_type": "code",
   "execution_count": 8,
   "metadata": {},
   "outputs": [
    {
     "name": "stdout",
     "output_type": "stream",
     "text": [
      "[[0. 0. 0. 0. 0. 0. 0. 0. 0. 0.]\n",
      " [0. 0. 2. 0. 0. 0. 0. 0. 0. 0.]\n",
      " [0. 0. 0. 3. 0. 0. 0. 0. 0. 0.]\n",
      " [0. 0. 0. 0. 4. 0. 0. 0. 0. 0.]\n",
      " [0. 0. 0. 0. 0. 5. 0. 0. 0. 0.]]\n"
     ]
    }
   ],
   "source": [
    "# np.eye(10)\n",
    "class_labels = [i for i in range(10)]\n",
    "\n",
    "one_hot = np.eye(10)[np.vectorize(lambda c: class_labels[c])(yt).reshape(-1)]\n",
    "for ty in range(len(yt)):\n",
    "    one_hot[ty] = yt[ty] * one_hot[ty]\n",
    "print(one_hot)"
   ]
  },
  {
   "cell_type": "code",
   "execution_count": 57,
   "metadata": {},
   "outputs": [],
   "source": [
    "class _BaseOptimizer:\n",
    "    def __init__(self, learning_rate=1e-4, reg=1e-3):\n",
    "        self.learning_rate = learning_rate\n",
    "        self.reg = reg\n",
    "\n",
    "    def update(self, model):\n",
    "        pass\n",
    "\n",
    "    def apply_regularization(self, model):\n",
    "        \"\"\"\n",
    "        Apply L2 penalty to the model. Update the gradient dictionary in the model\n",
    "        :param model: The model with gradients\n",
    "        :return: None, but the gradient dictionary of the model should be updated\n",
    "        \"\"\"\n",
    "\n",
    "        #############################################################################\n",
    "        # TODO:                                                                     #\n",
    "        #    1) Apply L2 penalty to model weights based on the regularization       #\n",
    "        #       coefficient                                                         #\n",
    "        #############################################################################\n",
    "        \n",
    "        \n",
    "        self.penalty = 1/2*self.reg*np.sum(np.square(model.weights['W1']))"
   ]
  },
  {
   "cell_type": "code",
   "execution_count": 54,
   "metadata": {},
   "outputs": [],
   "source": [
    "class SGD(_BaseOptimizer):\n",
    "    def __init__(self, learning_rate=1e-4, reg=1e-3):\n",
    "        super().__init__(learning_rate, reg)\n",
    "\n",
    "    def update(self, model):\n",
    "        \"\"\"\n",
    "        Update model weights based on gradients\n",
    "        :param model: The model to be updated\n",
    "        :return: None, but the model weights should be updated\n",
    "        \"\"\"\n",
    "        self.apply_regularization(model)\n",
    "        #############################################################################\n",
    "        # TODO:                                                                     #\n",
    "        #    1) Update model weights based on the learning rate and gradients       #\n",
    "        #############################################################################\n",
    "        model.weights['W1'] = model.weights['W1'] - self.learning_rate * (model.gradients + self.penalty)\n"
   ]
  },
  {
   "cell_type": "code",
   "execution_count": 58,
   "metadata": {},
   "outputs": [
    {
     "name": "stdout",
     "output_type": "stream",
     "text": [
      "Epoch # 1/5 === Accuracy: 0.0, Loss: 6.0980030818603455\n",
      "\n",
      "Epoch # 2/5 === Accuracy: 0.0, Loss: 6.082539415919048\n",
      "\n",
      "Epoch # 3/5 === Accuracy: 0.4, Loss: 5.173443585944618\n",
      "\n",
      "Epoch # 4/5 === Accuracy: 0.0, Loss: 8.744642014741991\n",
      "\n",
      "Epoch # 5/5 === Accuracy: 0.0, Loss: 8.404311710212468\n",
      "\n"
     ]
    }
   ],
   "source": [
    "class SoftmaxRegression(_baseNetwork):\n",
    "    def __init__(self, input_size=28 * 28, num_classes=10):\n",
    "        \"\"\"\n",
    "        A single layer softmax regression. The network is composed by:\n",
    "        a linear layer without bias => (activation) => Softmax\n",
    "        :param input_size: the input dimension\n",
    "        :param num_classes: the number of classes in total\n",
    "        \"\"\"\n",
    "        super().__init__(input_size, num_classes)\n",
    "        self._weight_init()\n",
    "\n",
    "    def _weight_init(self):\n",
    "        '''\n",
    "        initialize weights of the single layer regression network. No bias term included.\n",
    "        :return: None; self.weights is filled based on method\n",
    "        - W1: The weight matrix of the linear layer of shape (num_features, hidden_size)\n",
    "        '''\n",
    "        np.random.seed(1024)\n",
    "        self.weights['W1'] = 0.001 * np.random.randn(self.input_size, self.num_classes)\n",
    "        self.gradients = np.zeros((self.input_size, self.num_classes))\n",
    "                \n",
    "    def one_hot(self,y):\n",
    "        class_labels = [i for i in range(10)]\n",
    "        one_hot = np.eye(self.num_classes)[np.vectorize(lambda c: class_labels[c])(y).reshape(-1)]\n",
    "        for i in range(len(y)):\n",
    "            one_hot[i] = one_hot[i] * y[i]\n",
    "        return one_hot\n",
    "    \n",
    "    def softmax(self, scores):\n",
    "        f = np.exp(scores - np.max(scores))  # shift values\n",
    "        return f / np.sum(f)\n",
    "\n",
    "    def forward(self, X, y, mode='train'):\n",
    "        \"\"\"\n",
    "        Compute loss and gradients using softmax with vectorization.\n",
    "\n",
    "        :param X: a batch of image (N, 28x28)\n",
    "        :param y: labels of images in the batch (N,)\n",
    "        :return:\n",
    "            loss: the loss associated with the batch\n",
    "            accuracy: the accuracy of the batch\n",
    "        \"\"\"\n",
    "        loss = None\n",
    "        gradient = None\n",
    "        accuracy = None\n",
    "        #############################################################################\n",
    "        # TODO:                                                                     #\n",
    "        #    1) Implement the forward process and compute the Cross-Entropy loss    #\n",
    "        #    2) Compute the gradient of the loss with respect to the weights        #\n",
    "        # Hint:                                                                     #\n",
    "        #   Store your intermediate outputs before ReLU for backwards               #\n",
    "        #############################################################################\n",
    "\n",
    "        # Z = X * W\n",
    "        Z = np.matmul(X,self.weights['W1'])\n",
    "        A = self.ReLU(Z)\n",
    "        p = self.softmax(A)\n",
    "        \n",
    "        accuracy = self.compute_accuracy(p,y)\n",
    "        loss = self.cross_entropy_loss(p,y)\n",
    "        \n",
    "        \n",
    "\n",
    "\n",
    "        if mode != 'train':\n",
    "            return loss, accuracy\n",
    "\n",
    "        #############################################################################\n",
    "        # TODO:                                                                     #\n",
    "        #    1) Implement the backward process:                                     #\n",
    "        #        1) Compute gradients of each weight by chain rule                  #\n",
    "        #        2) Store the gradients in self.gradients                           #\n",
    "        #############################################################################\n",
    "        \n",
    "        \n",
    "        \n",
    "        error = (1/len(y))*(self.one_hot(y)-p)\n",
    "        self.gradients = np.dot(error.T,X).T\n",
    "        \n",
    "        # self.weights['W1'] = self.weights['W1'] - self.lr * self.gradients\n",
    "        \n",
    "        \n",
    "\n",
    "        return loss, accuracy\n",
    "    \n",
    "    \n",
    "    def train(self,X,y,epochs,batch_size):\n",
    "        loss_arr = []\n",
    "        accuracy_arr = []\n",
    "        sgd = SGD(learning_rate=1e-5)\n",
    "    \n",
    "        for epoch in range(epochs):\n",
    "            X_batch = X[epoch*batch_size:epoch*batch_size+batch_size]\n",
    "            y_batch = y[epoch*batch_size:epoch*batch_size+batch_size]\n",
    "            \n",
    "            loss,accuracy = self.forward(X_batch,y_batch,'train')\n",
    "            print(f\"Epoch # {epoch+1}/{epochs} === Accuracy: {accuracy}, Loss: {loss}\")\n",
    "            \n",
    "            sgd.update(self)\n",
    "            \n",
    "            loss_arr.append(loss)\n",
    "            accuracy_arr.append(accuracy)\n",
    "            print(\"\")\n",
    "            \n",
    "        return loss_arr, accuracy_arr\n",
    "    \n",
    "data_size = 50\n",
    "batch_size = 5\n",
    "epochs = 5\n",
    "\n",
    "classifier = SoftmaxRegression()\n",
    "loss, accuracy = classifier.train(X[:data_size],y[:data_size],epochs,batch_size)"
   ]
  },
  {
   "cell_type": "code",
   "execution_count": 10,
   "metadata": {},
   "outputs": [
    {
     "name": "stdout",
     "output_type": "stream",
     "text": [
      "0:5\n",
      "5:10\n",
      "10:15\n",
      "15:20\n",
      "20:25\n",
      "25:30\n",
      "30:35\n",
      "35:40\n",
      "40:45\n",
      "45:50\n"
     ]
    }
   ],
   "source": [
    "batch_size = 5\n",
    "for epoch in range(10):\n",
    "    print(f\"{epoch*batch_size}:{epoch*batch_size+batch_size}\")"
   ]
  }
 ],
 "metadata": {
  "kernelspec": {
   "display_name": "310_default",
   "language": "python",
   "name": "python3"
  },
  "language_info": {
   "codemirror_mode": {
    "name": "ipython",
    "version": 3
   },
   "file_extension": ".py",
   "mimetype": "text/x-python",
   "name": "python",
   "nbconvert_exporter": "python",
   "pygments_lexer": "ipython3",
   "version": "3.10.6 (main, Nov 14 2022, 16:10:14) [GCC 11.3.0]"
  },
  "orig_nbformat": 4,
  "vscode": {
   "interpreter": {
    "hash": "5d1e5415e4709ab72d4f13ab1c40055a30ddcaa9a7af539e0f44a9c51bba5cfc"
   }
  }
 },
 "nbformat": 4,
 "nbformat_minor": 2
}
